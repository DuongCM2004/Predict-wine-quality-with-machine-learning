{
 "cells": [
  {
   "cell_type": "code",
   "execution_count": null,
   "id": "950c93d1-adaa-43de-a6ec-97765eb6a81f",
   "metadata": {},
   "outputs": [],
   "source": [
    "import pandas as pd\n",
    "import matplotlib.pyplot as plt\n",
    "import seaborn as sns\n",
    "import numpy as np\n",
    "from scipy.stats import norm\n",
    "from sklearn.preprocessing import StandardScaler\n",
    "from scipy import stats"
   ]
  },
  {
   "cell_type": "code",
   "execution_count": null,
   "id": "744a3007-fcad-455c-9417-ab000d53c575",
   "metadata": {},
   "outputs": [],
   "source": [
    "df_train = pd.read_csv('train.csv', sep = ';')\n",
    "df_pred_all = pd.read_csv('test.csv', sep = ';')"
   ]
  },
  {
   "cell_type": "code",
   "execution_count": null,
   "id": "5f1c5904-18a7-4737-858a-6f59ca2af0ce",
   "metadata": {},
   "outputs": [],
   "source": [
    "df_train_outliers = df_train\n",
    "Q1 = df_train_outliers.quantile(0.25)\n",
    "Q3 = df_train_outliers.quantile(0.75)\n",
    "IQR = Q3 - Q1\n",
    "threshold = 1.5\n",
    "## print(df_train_outliers < (Q1 - 1.5 * IQR)) |(df_train_outliers > (Q3 + 1.5 * IQR))\n",
    "df_train_final = df_train_outliers[~((df_train_outliers < (Q1 - threshold * IQR)) |(df_train_outliers > (Q3 + threshold * IQR))).any(axis=1)]\n",
    "#print'Dataset size after removing outliers: ', df_train_final.shape\n",
    "\n"
   ]
  },
  {
   "cell_type": "code",
   "execution_count": null,
   "id": "5469bd24-4ad3-4979-b521-7c80d38de6b1",
   "metadata": {},
   "outputs": [],
   "source": [
    "from sklearn.model_selection import train_test_split\n",
    "from sklearn.preprocessing import MinMaxScaler\n",
    "from sklearn.metrics import mean_absolute_error\n",
    "\n",
    "feature_names = [u'fixed acidity', u'volatile acidity', u'citric acid', u'residual sugar', u'chlorides', u'free sulfur dioxide', u'total sulfur dioxide', u'density', u'pH', u'sulphates', u'alcohol']\n",
    "scaler = MinMaxScaler()\n",
    "\n",
    "\n",
    "X_train_all = df_train_all[feature_names]\n",
    "y_train_all = df_train_all['quality']\n"
   ]
  },
  {
   "cell_type": "code",
   "execution_count": null,
   "id": "4331313c-18cc-45a5-a87a-52bc17934148",
   "metadata": {},
   "outputs": [],
   "source": []
  },
  {
   "cell_type": "code",
   "execution_count": null,
   "id": "129906f5-ecf9-4283-bcef-51a33dd1614a",
   "metadata": {},
   "outputs": [],
   "source": []
  },
  {
   "cell_type": "code",
   "execution_count": null,
   "id": "862b3adb-6e3e-418a-84d4-e6e6d26e2ec2",
   "metadata": {},
   "outputs": [],
   "source": []
  },
  {
   "cell_type": "code",
   "execution_count": null,
   "id": "151e9cd1-26ef-4a4c-839c-93d7b6e09bfd",
   "metadata": {},
   "outputs": [],
   "source": []
  },
  {
   "cell_type": "code",
   "execution_count": null,
   "id": "c04fd528-42a1-4cc2-a6fb-a2c90d7b2f03",
   "metadata": {},
   "outputs": [],
   "source": []
  },
  {
   "cell_type": "code",
   "execution_count": null,
   "id": "234bc897-a1c7-4ca7-a6f9-061f48a7431b",
   "metadata": {},
   "outputs": [],
   "source": []
  },
  {
   "cell_type": "code",
   "execution_count": null,
   "id": "da87e5ff-7690-4d57-8a23-0decf9af143a",
   "metadata": {},
   "outputs": [],
   "source": []
  },
  {
   "cell_type": "code",
   "execution_count": null,
   "id": "7c21f4f8-0018-402f-a23d-c42820397d8b",
   "metadata": {},
   "outputs": [],
   "source": []
  },
  {
   "cell_type": "code",
   "execution_count": null,
   "id": "6c4b6a88-0a66-4f40-b7c7-3ff0890276a3",
   "metadata": {},
   "outputs": [],
   "source": []
  },
  {
   "cell_type": "code",
   "execution_count": null,
   "id": "7f0b3006-aae3-49f1-900b-ca7e5aecd768",
   "metadata": {},
   "outputs": [],
   "source": []
  }
 ],
 "metadata": {
  "kernelspec": {
   "display_name": "Python 3 (ipykernel)",
   "language": "python",
   "name": "python3"
  },
  "language_info": {
   "codemirror_mode": {
    "name": "ipython",
    "version": 3
   },
   "file_extension": ".py",
   "mimetype": "text/x-python",
   "name": "python",
   "nbconvert_exporter": "python",
   "pygments_lexer": "ipython3",
   "version": "3.10.9"
  }
 },
 "nbformat": 4,
 "nbformat_minor": 5
}
