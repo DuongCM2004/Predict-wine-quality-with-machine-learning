{
 "cells": [
  {
   "cell_type": "code",
   "execution_count": null,
   "id": "7ae41611-c079-4aff-97d8-e09f7318deb1",
   "metadata": {},
   "outputs": [],
   "source": [
    "import numpy as np # linear algebra....\n",
    "import pandas as pd # data processing, CSV file I/O (e.g. pd.read_csv)....\n",
    "from matplotlib import pyplot as plt #Visualization of the data....\n",
    "import seaborn as sns\n",
    "\n",
    "import warnings\n",
    "warnings.filterwarnings(\"ignore\")\n",
    "pd.set_option(\"display.max_columns\",None)\n",
    "pd.set_option(\"display.max_rows\",None)\n",
    "\n",
    "from IPython.core.interactiveshell import InteractiveShell \n",
    "InteractiveShell.ast_node_interactivity = \"all\"\n",
    "\n",
    "#Useful machine learning libraries....\n",
    "from sklearn.preprocessing import StandardScaler\n",
    "from sklearn.decomposition import PCA\n",
    "from sklearn.model_selection import train_test_split\n",
    "from sklearn.ensemble import RandomForestClassifier,AdaBoostClassifier,BaggingClassifier,ExtraTreesClassifier,GradientBoostingClassifier\n",
    "from sklearn.model_selection import GridSearchCV, cross_val_score, StratifiedKFold, learning_curve ,KFold\n",
    "from sklearn.metrics import roc_curve,accuracy_score,f1_score,auc,confusion_matrix,roc_auc_score\n",
    "from xgboost.sklearn import XGBClassifier\n",
    "from sklearn.metrics import classification_report,confusion_matrix,accuracy_score\n",
    "from sklearn.tree import DecisionTreeClassifier"
   ]
  },
  {
   "cell_type": "code",
   "execution_count": null,
   "id": "5c1c0aac-a6c0-4dfd-93f8-1c906854bf1b",
   "metadata": {},
   "outputs": [],
   "source": [
    "df = pd.read_csv('train.csv', sep =';')"
   ]
  },
  {
   "cell_type": "code",
   "execution_count": null,
   "id": "e65b3c99-1840-4c17-8bbe-4d5665661835",
   "metadata": {},
   "outputs": [],
   "source": [
    "df1=df.copy()"
   ]
  },
  {
   "cell_type": "code",
   "execution_count": null,
   "id": "6bf81ff7-ecf1-48f0-8c6b-738fab1d48b5",
   "metadata": {},
   "outputs": [],
   "source": [
    "from IPython.core.display import HTML\n",
    "def multi_table(table_list):\n",
    "    ''' Acceps a list of IpyTable objects and returns a table which contains each IpyTable in a cell\n",
    "    '''\n",
    "    return HTML(\n",
    "        '<table><tr style=\"background-color:white;\">' + \n",
    "        ''.join(['<td>' + table._repr_html_() + '</td>' for table in table_list]) +\n",
    "        '</tr></table>')"
   ]
  },
  {
   "cell_type": "code",
   "execution_count": null,
   "id": "8d64c068-a8da-49d8-bcdf-2b707c3dd696",
   "metadata": {},
   "outputs": [],
   "source": [
    "df_nunique = {var: pd.DataFrame(df[var].value_counts()) \n",
    "              for var in {'quality'}}\n",
    "multi_table([df_nunique['quality'].style.background_gradient(cmap='cool')])\n"
   ]
  },
  {
   "cell_type": "code",
   "execution_count": null,
   "id": "0600cbcf-167b-474e-a67c-47dd6991490c",
   "metadata": {},
   "outputs": [],
   "source": [
    "import missingno as mn\n",
    "mn.matrix(df,color=(0.5,0.5,0.5),figsize = (10,4))"
   ]
  },
  {
   "cell_type": "code",
   "execution_count": null,
   "id": "fc7d7425-2563-454e-9dc5-ac8de88a48b5",
   "metadata": {},
   "outputs": [],
   "source": [
    "df.duplicated().sum()"
   ]
  },
  {
   "cell_type": "code",
   "execution_count": null,
   "id": "2ac440bb-016c-4549-ab5c-b65d76ca0369",
   "metadata": {},
   "outputs": [],
   "source": [
    "df.drop_duplicates(inplace=True)"
   ]
  },
  {
   "cell_type": "code",
   "execution_count": null,
   "id": "4c8ac762-8b6d-45d9-89b1-024cd5640b2a",
   "metadata": {},
   "outputs": [],
   "source": [
    "round(df.describe(exclude = 'object'), 2).T.style.background_gradient(cmap='cool')"
   ]
  },
  {
   "cell_type": "code",
   "execution_count": null,
   "id": "abbc7dc1-ae7d-4639-8781-1f65514919d8",
   "metadata": {},
   "outputs": [],
   "source": [
    "#Feature Engineering...\n",
    "bins = (2, 6.5, 8)\n",
    "group_names = ['bad', 'good']\n",
    "df['quality'] = pd.cut(df['quality'], bins = bins, labels = group_names)\n",
    "\n",
    "#Feature Transformation...\n",
    "df['quality'].replace({'bad':0, 'good':1}, inplace=True)"
   ]
  },
  {
   "cell_type": "code",
   "execution_count": null,
   "id": "bd11ed5a-09e1-407f-aceb-984f7220d631",
   "metadata": {},
   "outputs": [],
   "source": [
    "df.drop(columns = ['fixed acidity', 'volatile acidity','residual sugar',\n",
    "       'chlorides', 'free sulfur dioxide', 'total sulfur dioxide','sulphates', 'alcohol'],axis=True,inplace =True)"
   ]
  },
  {
   "cell_type": "code",
   "execution_count": null,
   "id": "df4df127-ac95-4c63-9241-d9b65a6b74eb",
   "metadata": {},
   "outputs": [],
   "source": [
    "df = df[['Log_fixed acidity','Log_volatile acidity','citric acid', 'Log_residual sugar', 'Log_chlorides',\n",
    "       'Log_free sulfur dioxide', 'Log_total sulfur dioxide','density',\n",
    "       'pH','Log_sulphates','Log_alcohol','quality']]"
   ]
  },
  {
   "cell_type": "code",
   "execution_count": null,
   "id": "e1735a28-4d17-4512-bb6f-6f320f454caf",
   "metadata": {},
   "outputs": [],
   "source": [
    "df.head().style.background_gradient(cmap='cool')"
   ]
  },
  {
   "cell_type": "code",
   "execution_count": null,
   "id": "f329a785-0f58-4f17-bf46-2195296c754b",
   "metadata": {},
   "outputs": [],
   "source": [
    "x = df.drop('quality',axis=1)\n",
    "#Target Variable\n",
    "Y = df['quality']\n",
    "\n",
    "x_train,x_test,Y_train,Y_test = train_test_split(x,Y,test_size = 0.25,random_state=44)"
   ]
  }
 ],
 "metadata": {
  "kernelspec": {
   "display_name": "Python 3 (ipykernel)",
   "language": "python",
   "name": "python3"
  },
  "language_info": {
   "codemirror_mode": {
    "name": "ipython",
    "version": 3
   },
   "file_extension": ".py",
   "mimetype": "text/x-python",
   "name": "python",
   "nbconvert_exporter": "python",
   "pygments_lexer": "ipython3",
   "version": "3.10.9"
  }
 },
 "nbformat": 4,
 "nbformat_minor": 5
}
