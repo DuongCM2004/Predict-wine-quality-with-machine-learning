{
 "cells": [
  {
   "cell_type": "code",
   "execution_count": 1,
   "id": "9f4aae43-3922-48b4-8724-802811d6b006",
   "metadata": {},
   "outputs": [],
   "source": [
    "import pandas as pd\n",
    "import numpy as np\n",
    "import seaborn as sns\n",
    "import matplotlib.pyplot as plt\n",
    "from sklearn.ensemble import RandomForestRegressor, RandomForestClassifier\n",
    "from sklearn.model_selection import RandomizedSearchCV\n",
    "from sklearn.decomposition import PCA\n",
    "from sklearn.manifold import LocallyLinearEmbedding\n",
    "from sklearn.random_projection import GaussianRandomProjection\n",
    "from sklearn.preprocessing import RobustScaler, StandardScaler, QuantileTransformer, FunctionTransformer"
   ]
  },
  {
   "cell_type": "code",
   "execution_count": 2,
   "id": "6f462fcc-3120-4202-8c5a-c5b1389bafc2",
   "metadata": {},
   "outputs": [],
   "source": [
    "import pandas as pd\n",
    "import numpy as np\n",
    "import seaborn as sns\n",
    "from sklearn.linear_model import LinearRegression, Lasso, Ridge, SGDRegressor\n",
    "from sklearn.linear_model import LogisticRegression\n",
    "from scipy.stats import boxcox\n",
    "from sklearn.metrics import r2_score, mean_squared_error\n",
    "from sklearn.preprocessing import (StandardScaler, MinMaxScaler,\n",
    "                                   PolynomialFeatures)\n",
    "from sklearn.pipeline import Pipeline\n",
    "from sklearn.model_selection import KFold, cross_val_predict, train_test_split, GridSearchCV\n",
    "import matplotlib.pyplot as plt\n",
    "from sklearn.preprocessing import OneHotEncoder"
   ]
  },
  {
   "cell_type": "code",
   "execution_count": 3,
   "id": "f9252a4f-3ba9-4398-bb58-de918251602d",
   "metadata": {},
   "outputs": [
    {
     "data": {
      "text/html": [
       "<div>\n",
       "<style scoped>\n",
       "    .dataframe tbody tr th:only-of-type {\n",
       "        vertical-align: middle;\n",
       "    }\n",
       "\n",
       "    .dataframe tbody tr th {\n",
       "        vertical-align: top;\n",
       "    }\n",
       "\n",
       "    .dataframe thead th {\n",
       "        text-align: right;\n",
       "    }\n",
       "</style>\n",
       "<table border=\"1\" class=\"dataframe\">\n",
       "  <thead>\n",
       "    <tr style=\"text-align: right;\">\n",
       "      <th></th>\n",
       "      <th>fixed acidity</th>\n",
       "      <th>volatile acidity</th>\n",
       "      <th>citric acid</th>\n",
       "      <th>residual sugar</th>\n",
       "      <th>chlorides</th>\n",
       "      <th>free sulfur dioxide</th>\n",
       "      <th>total sulfur dioxide</th>\n",
       "      <th>density</th>\n",
       "      <th>pH</th>\n",
       "      <th>sulphates</th>\n",
       "      <th>alcohol</th>\n",
       "      <th>quality</th>\n",
       "      <th>type</th>\n",
       "    </tr>\n",
       "  </thead>\n",
       "  <tbody>\n",
       "    <tr>\n",
       "      <th>0</th>\n",
       "      <td>6.6</td>\n",
       "      <td>0.3</td>\n",
       "      <td>0.36</td>\n",
       "      <td>1.2</td>\n",
       "      <td>0.035</td>\n",
       "      <td>43</td>\n",
       "      <td>126</td>\n",
       "      <td>0.9909</td>\n",
       "      <td>3.01</td>\n",
       "      <td>0.63</td>\n",
       "      <td>11.4</td>\n",
       "      <td>6</td>\n",
       "      <td>white</td>\n",
       "    </tr>\n",
       "    <tr>\n",
       "      <th>1</th>\n",
       "      <td>7.7</td>\n",
       "      <td>0.5</td>\n",
       "      <td>0.26</td>\n",
       "      <td>1.9</td>\n",
       "      <td>0.062</td>\n",
       "      <td>9</td>\n",
       "      <td>31</td>\n",
       "      <td>0.9966</td>\n",
       "      <td>3.39</td>\n",
       "      <td>0.64</td>\n",
       "      <td>9.6</td>\n",
       "      <td>5</td>\n",
       "      <td>red</td>\n",
       "    </tr>\n",
       "    <tr>\n",
       "      <th>2</th>\n",
       "      <td>8.4</td>\n",
       "      <td>0.5</td>\n",
       "      <td>0.35</td>\n",
       "      <td>2.9</td>\n",
       "      <td>0.076</td>\n",
       "      <td>21</td>\n",
       "      <td>127</td>\n",
       "      <td>0.9976</td>\n",
       "      <td>3.23</td>\n",
       "      <td>0.63</td>\n",
       "      <td>9.2</td>\n",
       "      <td>5</td>\n",
       "      <td>red</td>\n",
       "    </tr>\n",
       "    <tr>\n",
       "      <th>3</th>\n",
       "      <td>7.5</td>\n",
       "      <td>0.4</td>\n",
       "      <td>0.33</td>\n",
       "      <td>5.0</td>\n",
       "      <td>0.045</td>\n",
       "      <td>30</td>\n",
       "      <td>131</td>\n",
       "      <td>0.9942</td>\n",
       "      <td>3.32</td>\n",
       "      <td>0.44</td>\n",
       "      <td>10.9</td>\n",
       "      <td>6</td>\n",
       "      <td>white</td>\n",
       "    </tr>\n",
       "    <tr>\n",
       "      <th>4</th>\n",
       "      <td>6.4</td>\n",
       "      <td>0.2</td>\n",
       "      <td>0.25</td>\n",
       "      <td>20.2</td>\n",
       "      <td>0.083</td>\n",
       "      <td>35</td>\n",
       "      <td>157</td>\n",
       "      <td>0.9998</td>\n",
       "      <td>3.17</td>\n",
       "      <td>0.50</td>\n",
       "      <td>9.1</td>\n",
       "      <td>5</td>\n",
       "      <td>white</td>\n",
       "    </tr>\n",
       "  </tbody>\n",
       "</table>\n",
       "</div>"
      ],
      "text/plain": [
       "   fixed acidity  volatile acidity  citric acid  residual sugar  chlorides  \\\n",
       "0            6.6               0.3         0.36             1.2      0.035   \n",
       "1            7.7               0.5         0.26             1.9      0.062   \n",
       "2            8.4               0.5         0.35             2.9      0.076   \n",
       "3            7.5               0.4         0.33             5.0      0.045   \n",
       "4            6.4               0.2         0.25            20.2      0.083   \n",
       "\n",
       "   free sulfur dioxide  total sulfur dioxide  density    pH  sulphates  \\\n",
       "0                   43                   126   0.9909  3.01       0.63   \n",
       "1                    9                    31   0.9966  3.39       0.64   \n",
       "2                   21                   127   0.9976  3.23       0.63   \n",
       "3                   30                   131   0.9942  3.32       0.44   \n",
       "4                   35                   157   0.9998  3.17       0.50   \n",
       "\n",
       "   alcohol  quality   type  \n",
       "0     11.4        6  white  \n",
       "1      9.6        5    red  \n",
       "2      9.2        5    red  \n",
       "3     10.9        6  white  \n",
       "4      9.1        5  white  "
      ]
     },
     "execution_count": 3,
     "metadata": {},
     "output_type": "execute_result"
    }
   ],
   "source": [
    "train_data = pd.read_csv('train.csv', sep = ';')\n",
    "train_data.head(5)"
   ]
  },
  {
   "cell_type": "code",
   "execution_count": 4,
   "id": "14c6bc2f-338e-42a1-9250-15b8c65f1c44",
   "metadata": {},
   "outputs": [],
   "source": [
    "def feat_eng(df):\n",
    "    df.columns = df.columns.str.replace(' ', '_')\n",
    "    df['total_acidity'] = df['fixed_acidity'] + df['volatile_acidity'] + df['citric_acid']\n",
    "    df['acidity_to_pH_ratio'] = df['total_acidity'] / df['pH']\n",
    "    df['free_sulfur_dioxide_to_total_sulfur_dioxide_ratio'] = df['free_sulfur_dioxide'] / df['total_sulfur_dioxide']\n",
    "    df['alcohol_to_acidity_ratio'] = df['alcohol'] / df['total_acidity']\n",
    "    df['residual_sugar_to_citric_acid_ratio'] = df['residual_sugar'] / df['citric_acid']\n",
    "    df['alcohol_to_density_ratio'] = df['alcohol'] / df['density']\n",
    "    df['total_alkalinity'] = df['pH'] + df['alcohol']\n",
    "    df['total_minerals'] = df['chlorides'] + df['sulphates'] + df['residual_sugar']\n",
    "    return df"
   ]
  },
  {
   "cell_type": "code",
   "execution_count": 5,
   "id": "b6c56aef-8113-4e9d-957e-db6942023695",
   "metadata": {},
   "outputs": [
    {
     "name": "stdout",
     "output_type": "stream",
     "text": [
      "<class 'pandas.core.frame.DataFrame'>\n",
      "RangeIndex: 6714 entries, 0 to 6713\n",
      "Data columns (total 21 columns):\n",
      " #   Column                                             Non-Null Count  Dtype  \n",
      "---  ------                                             --------------  -----  \n",
      " 0   fixed_acidity                                      6714 non-null   float64\n",
      " 1   volatile_acidity                                   6714 non-null   float64\n",
      " 2   citric_acid                                        6714 non-null   float64\n",
      " 3   residual_sugar                                     6714 non-null   float64\n",
      " 4   chlorides                                          6714 non-null   float64\n",
      " 5   free_sulfur_dioxide                                6714 non-null   int64  \n",
      " 6   total_sulfur_dioxide                               6714 non-null   int64  \n",
      " 7   density                                            6714 non-null   float64\n",
      " 8   pH                                                 6714 non-null   float64\n",
      " 9   sulphates                                          6714 non-null   float64\n",
      " 10  alcohol                                            6714 non-null   float64\n",
      " 11  quality                                            6714 non-null   int64  \n",
      " 12  type                                               6714 non-null   object \n",
      " 13  total_acidity                                      6714 non-null   float64\n",
      " 14  acidity_to_pH_ratio                                6714 non-null   float64\n",
      " 15  free_sulfur_dioxide_to_total_sulfur_dioxide_ratio  6714 non-null   float64\n",
      " 16  alcohol_to_acidity_ratio                           6714 non-null   float64\n",
      " 17  residual_sugar_to_citric_acid_ratio                6714 non-null   float64\n",
      " 18  alcohol_to_density_ratio                           6714 non-null   float64\n",
      " 19  total_alkalinity                                   6714 non-null   float64\n",
      " 20  total_minerals                                     6714 non-null   float64\n",
      "dtypes: float64(17), int64(3), object(1)\n",
      "memory usage: 1.1+ MB\n"
     ]
    }
   ],
   "source": [
    "train_data = feat_eng(train_data)\n",
    "train_data.info()"
   ]
  },
  {
   "cell_type": "code",
   "execution_count": 6,
   "id": "648a38bf-4df3-491a-845d-b8f31057bc0d",
   "metadata": {},
   "outputs": [
    {
     "data": {
      "text/html": [
       "<div>\n",
       "<style scoped>\n",
       "    .dataframe tbody tr th:only-of-type {\n",
       "        vertical-align: middle;\n",
       "    }\n",
       "\n",
       "    .dataframe tbody tr th {\n",
       "        vertical-align: top;\n",
       "    }\n",
       "\n",
       "    .dataframe thead th {\n",
       "        text-align: right;\n",
       "    }\n",
       "</style>\n",
       "<table border=\"1\" class=\"dataframe\">\n",
       "  <thead>\n",
       "    <tr style=\"text-align: right;\">\n",
       "      <th></th>\n",
       "      <th>fixed_acidity</th>\n",
       "      <th>volatile_acidity</th>\n",
       "      <th>citric_acid</th>\n",
       "      <th>residual_sugar</th>\n",
       "      <th>chlorides</th>\n",
       "      <th>free_sulfur_dioxide</th>\n",
       "      <th>total_sulfur_dioxide</th>\n",
       "      <th>density</th>\n",
       "      <th>pH</th>\n",
       "      <th>sulphates</th>\n",
       "      <th>...</th>\n",
       "      <th>quality</th>\n",
       "      <th>type</th>\n",
       "      <th>total_acidity</th>\n",
       "      <th>acidity_to_pH_ratio</th>\n",
       "      <th>free_sulfur_dioxide_to_total_sulfur_dioxide_ratio</th>\n",
       "      <th>alcohol_to_acidity_ratio</th>\n",
       "      <th>residual_sugar_to_citric_acid_ratio</th>\n",
       "      <th>alcohol_to_density_ratio</th>\n",
       "      <th>total_alkalinity</th>\n",
       "      <th>total_minerals</th>\n",
       "    </tr>\n",
       "  </thead>\n",
       "  <tbody>\n",
       "    <tr>\n",
       "      <th>1</th>\n",
       "      <td>7.7</td>\n",
       "      <td>0.5</td>\n",
       "      <td>0.26</td>\n",
       "      <td>1.9</td>\n",
       "      <td>0.062</td>\n",
       "      <td>9</td>\n",
       "      <td>31</td>\n",
       "      <td>0.9966</td>\n",
       "      <td>3.39</td>\n",
       "      <td>0.64</td>\n",
       "      <td>...</td>\n",
       "      <td>5</td>\n",
       "      <td>red</td>\n",
       "      <td>8.46</td>\n",
       "      <td>2.495575</td>\n",
       "      <td>0.290323</td>\n",
       "      <td>1.134752</td>\n",
       "      <td>7.307692</td>\n",
       "      <td>9.632751</td>\n",
       "      <td>12.99</td>\n",
       "      <td>2.602</td>\n",
       "    </tr>\n",
       "    <tr>\n",
       "      <th>2</th>\n",
       "      <td>8.4</td>\n",
       "      <td>0.5</td>\n",
       "      <td>0.35</td>\n",
       "      <td>2.9</td>\n",
       "      <td>0.076</td>\n",
       "      <td>21</td>\n",
       "      <td>127</td>\n",
       "      <td>0.9976</td>\n",
       "      <td>3.23</td>\n",
       "      <td>0.63</td>\n",
       "      <td>...</td>\n",
       "      <td>5</td>\n",
       "      <td>red</td>\n",
       "      <td>9.25</td>\n",
       "      <td>2.863777</td>\n",
       "      <td>0.165354</td>\n",
       "      <td>0.994595</td>\n",
       "      <td>8.285714</td>\n",
       "      <td>9.222133</td>\n",
       "      <td>12.43</td>\n",
       "      <td>3.606</td>\n",
       "    </tr>\n",
       "    <tr>\n",
       "      <th>18</th>\n",
       "      <td>8.8</td>\n",
       "      <td>0.4</td>\n",
       "      <td>0.49</td>\n",
       "      <td>2.8</td>\n",
       "      <td>0.083</td>\n",
       "      <td>18</td>\n",
       "      <td>111</td>\n",
       "      <td>0.9982</td>\n",
       "      <td>3.30</td>\n",
       "      <td>0.60</td>\n",
       "      <td>...</td>\n",
       "      <td>5</td>\n",
       "      <td>red</td>\n",
       "      <td>9.69</td>\n",
       "      <td>2.936364</td>\n",
       "      <td>0.162162</td>\n",
       "      <td>0.980392</td>\n",
       "      <td>5.714286</td>\n",
       "      <td>9.517131</td>\n",
       "      <td>12.80</td>\n",
       "      <td>3.483</td>\n",
       "    </tr>\n",
       "    <tr>\n",
       "      <th>20</th>\n",
       "      <td>7.0</td>\n",
       "      <td>0.4</td>\n",
       "      <td>0.19</td>\n",
       "      <td>2.3</td>\n",
       "      <td>0.071</td>\n",
       "      <td>18</td>\n",
       "      <td>36</td>\n",
       "      <td>0.9948</td>\n",
       "      <td>3.39</td>\n",
       "      <td>0.56</td>\n",
       "      <td>...</td>\n",
       "      <td>5</td>\n",
       "      <td>red</td>\n",
       "      <td>7.59</td>\n",
       "      <td>2.238938</td>\n",
       "      <td>0.500000</td>\n",
       "      <td>1.436100</td>\n",
       "      <td>12.105263</td>\n",
       "      <td>10.956976</td>\n",
       "      <td>14.29</td>\n",
       "      <td>2.931</td>\n",
       "    </tr>\n",
       "    <tr>\n",
       "      <th>21</th>\n",
       "      <td>8.2</td>\n",
       "      <td>0.4</td>\n",
       "      <td>0.38</td>\n",
       "      <td>2.6</td>\n",
       "      <td>0.093</td>\n",
       "      <td>23</td>\n",
       "      <td>60</td>\n",
       "      <td>0.9979</td>\n",
       "      <td>3.31</td>\n",
       "      <td>0.71</td>\n",
       "      <td>...</td>\n",
       "      <td>6</td>\n",
       "      <td>red</td>\n",
       "      <td>8.98</td>\n",
       "      <td>2.712991</td>\n",
       "      <td>0.383333</td>\n",
       "      <td>1.213808</td>\n",
       "      <td>6.842105</td>\n",
       "      <td>10.922938</td>\n",
       "      <td>14.21</td>\n",
       "      <td>3.403</td>\n",
       "    </tr>\n",
       "  </tbody>\n",
       "</table>\n",
       "<p>5 rows × 21 columns</p>\n",
       "</div>"
      ],
      "text/plain": [
       "    fixed_acidity  volatile_acidity  citric_acid  residual_sugar  chlorides  \\\n",
       "1             7.7               0.5         0.26             1.9      0.062   \n",
       "2             8.4               0.5         0.35             2.9      0.076   \n",
       "18            8.8               0.4         0.49             2.8      0.083   \n",
       "20            7.0               0.4         0.19             2.3      0.071   \n",
       "21            8.2               0.4         0.38             2.6      0.093   \n",
       "\n",
       "    free_sulfur_dioxide  total_sulfur_dioxide  density    pH  sulphates  ...  \\\n",
       "1                     9                    31   0.9966  3.39       0.64  ...   \n",
       "2                    21                   127   0.9976  3.23       0.63  ...   \n",
       "18                   18                   111   0.9982  3.30       0.60  ...   \n",
       "20                   18                    36   0.9948  3.39       0.56  ...   \n",
       "21                   23                    60   0.9979  3.31       0.71  ...   \n",
       "\n",
       "    quality  type total_acidity  acidity_to_pH_ratio  \\\n",
       "1         5   red          8.46             2.495575   \n",
       "2         5   red          9.25             2.863777   \n",
       "18        5   red          9.69             2.936364   \n",
       "20        5   red          7.59             2.238938   \n",
       "21        6   red          8.98             2.712991   \n",
       "\n",
       "    free_sulfur_dioxide_to_total_sulfur_dioxide_ratio  \\\n",
       "1                                            0.290323   \n",
       "2                                            0.165354   \n",
       "18                                           0.162162   \n",
       "20                                           0.500000   \n",
       "21                                           0.383333   \n",
       "\n",
       "    alcohol_to_acidity_ratio  residual_sugar_to_citric_acid_ratio  \\\n",
       "1                   1.134752                             7.307692   \n",
       "2                   0.994595                             8.285714   \n",
       "18                  0.980392                             5.714286   \n",
       "20                  1.436100                            12.105263   \n",
       "21                  1.213808                             6.842105   \n",
       "\n",
       "    alcohol_to_density_ratio  total_alkalinity  total_minerals  \n",
       "1                   9.632751             12.99           2.602  \n",
       "2                   9.222133             12.43           3.606  \n",
       "18                  9.517131             12.80           3.483  \n",
       "20                 10.956976             14.29           2.931  \n",
       "21                 10.922938             14.21           3.403  \n",
       "\n",
       "[5 rows x 21 columns]"
      ]
     },
     "execution_count": 6,
     "metadata": {},
     "output_type": "execute_result"
    }
   ],
   "source": [
    "train_data_red = train_data[train_data['type'] == 'red']\n",
    "train_data_red.head(5)"
   ]
  },
  {
   "cell_type": "code",
   "execution_count": 7,
   "id": "c307704b-36fd-4140-91d6-bfb2f38e3a67",
   "metadata": {},
   "outputs": [],
   "source": [
    "train_data_red = train_data_red.drop(columns = ['type'])"
   ]
  },
  {
   "cell_type": "code",
   "execution_count": 8,
   "id": "d2a9a6ad-810f-48c8-8a1d-7cd38495f7a0",
   "metadata": {},
   "outputs": [
    {
     "name": "stderr",
     "output_type": "stream",
     "text": [
      "C:\\Users\\IT tools\\anaconda3\\lib\\site-packages\\numpy\\core\\_methods.py:233: RuntimeWarning: invalid value encountered in subtract\n",
      "  x = asanyarray(arr - arrmean)\n"
     ]
    }
   ],
   "source": [
    "from scipy import stats\n",
    "z = np.abs(stats.zscore(train_data_red))\n"
   ]
  },
  {
   "cell_type": "code",
   "execution_count": 9,
   "id": "bd5d1070-a7b3-49d2-9d03-bd994c730117",
   "metadata": {},
   "outputs": [
    {
     "data": {
      "text/html": [
       "<div>\n",
       "<style scoped>\n",
       "    .dataframe tbody tr th:only-of-type {\n",
       "        vertical-align: middle;\n",
       "    }\n",
       "\n",
       "    .dataframe tbody tr th {\n",
       "        vertical-align: top;\n",
       "    }\n",
       "\n",
       "    .dataframe thead th {\n",
       "        text-align: right;\n",
       "    }\n",
       "</style>\n",
       "<table border=\"1\" class=\"dataframe\">\n",
       "  <thead>\n",
       "    <tr style=\"text-align: right;\">\n",
       "      <th></th>\n",
       "      <th>fixed_acidity</th>\n",
       "      <th>volatile_acidity</th>\n",
       "      <th>citric_acid</th>\n",
       "      <th>residual_sugar</th>\n",
       "      <th>chlorides</th>\n",
       "      <th>free_sulfur_dioxide</th>\n",
       "      <th>total_sulfur_dioxide</th>\n",
       "      <th>density</th>\n",
       "      <th>pH</th>\n",
       "      <th>sulphates</th>\n",
       "      <th>alcohol</th>\n",
       "      <th>quality</th>\n",
       "      <th>total_acidity</th>\n",
       "      <th>acidity_to_pH_ratio</th>\n",
       "      <th>free_sulfur_dioxide_to_total_sulfur_dioxide_ratio</th>\n",
       "      <th>alcohol_to_acidity_ratio</th>\n",
       "      <th>residual_sugar_to_citric_acid_ratio</th>\n",
       "      <th>alcohol_to_density_ratio</th>\n",
       "      <th>total_alkalinity</th>\n",
       "      <th>total_minerals</th>\n",
       "    </tr>\n",
       "  </thead>\n",
       "  <tbody>\n",
       "  </tbody>\n",
       "</table>\n",
       "</div>"
      ],
      "text/plain": [
       "Empty DataFrame\n",
       "Columns: [fixed_acidity, volatile_acidity, citric_acid, residual_sugar, chlorides, free_sulfur_dioxide, total_sulfur_dioxide, density, pH, sulphates, alcohol, quality, total_acidity, acidity_to_pH_ratio, free_sulfur_dioxide_to_total_sulfur_dioxide_ratio, alcohol_to_acidity_ratio, residual_sugar_to_citric_acid_ratio, alcohol_to_density_ratio, total_alkalinity, total_minerals]\n",
       "Index: []"
      ]
     },
     "execution_count": 9,
     "metadata": {},
     "output_type": "execute_result"
    }
   ],
   "source": [
    "red_qualified = train_data_red[(z < 3).all(axis=1)]\n",
    "red_qualified"
   ]
  },
  {
   "cell_type": "code",
   "execution_count": 10,
   "id": "b2de11bb-40a8-4784-886c-5ca3a0c3ab71",
   "metadata": {},
   "outputs": [],
   "source": [
    "X1 = train_data_red.drop(columns = 'quality')\n",
    "Y1 = train_data_red['quality']\n"
   ]
  },
  {
   "cell_type": "code",
   "execution_count": null,
   "id": "45f602c6-700a-4221-8343-ff00dd3e4cb3",
   "metadata": {},
   "outputs": [],
   "source": [
    "from sklearn.model_selection import GridSearchCV\n",
    "# Create the parameter grid based on the results of random search \n",
    "param_grid = {\n",
    "    'bootstrap': [True],\n",
    "    'max_depth': [8, 10, 12, 14],\n",
    "    'max_features': [2, 3, 12],\n",
    "    'min_samples_leaf': [3, 4, 5],\n",
    "    'min_samples_split': [8, 10, 12],\n",
    "    'n_estimators': [100, 200, 300, 1000]\n",
    "}\n",
    "# Create a based model\n",
    "rf = RandomForestRegressor()\n",
    "# Instantiate the grid search model\n",
    "grid_search = GridSearchCV(estimator = rf, param_grid = param_grid, \n",
    "                          cv = 3, n_jobs = -1, verbose = 2)"
   ]
  },
  {
   "cell_type": "code",
   "execution_count": null,
   "id": "7ebc42ea-a46d-4bd4-a1c9-2cd1acee4ccc",
   "metadata": {},
   "outputs": [],
   "source": [
    "grid_search.fit(X1_s, Y1)"
   ]
  },
  {
   "cell_type": "code",
   "execution_count": null,
   "id": "be86ce27-abfb-45fd-835f-67278361813f",
   "metadata": {},
   "outputs": [],
   "source": [
    "train_data_white = train_data[train_data['type'] == 'white']\n",
    "train_data_white.head()"
   ]
  },
  {
   "cell_type": "code",
   "execution_count": null,
   "id": "d9cf99a3-dca9-490e-b3c2-6dc5b30e3ea6",
   "metadata": {},
   "outputs": [],
   "source": [
    "train_data_white = train_data_white.drop(columns = ['type'])"
   ]
  },
  {
   "cell_type": "code",
   "execution_count": null,
   "id": "79d2a81c-c15b-4930-80f7-41a64c08dd7b",
   "metadata": {},
   "outputs": [],
   "source": [
    "y = np.abs(stats.zscore(train_data_white))"
   ]
  },
  {
   "cell_type": "code",
   "execution_count": null,
   "id": "ea198ae0-35b7-44e6-8b73-35549a775bf4",
   "metadata": {},
   "outputs": [],
   "source": [
    "white_qualified = train_data_white[(y < 3).all(axis=1)]\n",
    "white_qualified"
   ]
  },
  {
   "cell_type": "code",
   "execution_count": null,
   "id": "0399a7f0-40f1-4142-8232-c70e63a624e5",
   "metadata": {},
   "outputs": [],
   "source": [
    "X2 = white_qualified.drop(columns = 'quality')\n",
    "Y2 = white_qualified['quality']"
   ]
  },
  {
   "cell_type": "code",
   "execution_count": null,
   "id": "caa62215-39fe-4a49-844e-bda4cfd8f79e",
   "metadata": {},
   "outputs": [],
   "source": [
    "s = StandardScaler()\n",
    "X2_s = s.fit_transform(X2)"
   ]
  },
  {
   "cell_type": "code",
   "execution_count": null,
   "id": "9580f373-e90a-4b80-bc91-6779ea444bd5",
   "metadata": {},
   "outputs": [],
   "source": [
    "pipeline_white = Pipeline(steps = [('scaler', StandardScaler()), ('pca', PCA(n_components=6)), ('polynomial', PolynomialFeatures(degree = 2)), ('random_forest', RandomForestRegressor(n_estimators = 300, \n",
    "                            criterion = 'squared_error', max_depth = 14, min_samples_leaf = 3, min_samples_split = 8, max_features = 12, bootstrap = True))])\n",
    "               "
   ]
  },
  {
   "cell_type": "code",
   "execution_count": null,
   "id": "0f227009-1e71-4ca3-bf81-32d125b90171",
   "metadata": {},
   "outputs": [],
   "source": [
    "pipeline_white.fit(X2, Y2)"
   ]
  },
  {
   "cell_type": "code",
   "execution_count": null,
   "id": "4827c5e9-7270-4888-9943-6a94f78bf392",
   "metadata": {},
   "outputs": [],
   "source": [
    "test_data = pd.read_csv('test.csv', sep = ';')\n",
    "test_data.head(5)"
   ]
  },
  {
   "cell_type": "code",
   "execution_count": null,
   "id": "57c9979f-e238-4b15-80e8-1cc77ee4268f",
   "metadata": {},
   "outputs": [],
   "source": [
    "test_red = test_data[test_data['type'] == 'red']\n",
    "test_red.head(5)"
   ]
  },
  {
   "cell_type": "code",
   "execution_count": null,
   "id": "aeb6d1c2-cf27-496d-928b-b113af50ed9c",
   "metadata": {},
   "outputs": [],
   "source": [
    "id1 = test_red['id']\n",
    "test_red_qualified = test_red.drop(columns = ['id','type'])\n"
   ]
  },
  {
   "cell_type": "code",
   "execution_count": null,
   "id": "52c25b9f-6803-4d14-a054-c3b44d88a4f9",
   "metadata": {},
   "outputs": [],
   "source": [
    "predicted1 = pipeline.predict(test_red_qualified)"
   ]
  },
  {
   "cell_type": "code",
   "execution_count": null,
   "id": "83c5b8ac-e75d-46bf-a465-46a6523c58f4",
   "metadata": {},
   "outputs": [],
   "source": [
    "data = {'id': id1, 'quality': predicted1}\n",
    "red_table = pd.DataFrame(data)\n",
    "red_table.head(5)"
   ]
  },
  {
   "cell_type": "code",
   "execution_count": null,
   "id": "d608c558-358c-4668-9248-763ff9c8c7e7",
   "metadata": {},
   "outputs": [],
   "source": [
    "test_white = test_data[test_data['type'] == 'white']"
   ]
  },
  {
   "cell_type": "code",
   "execution_count": null,
   "id": "a99f8346-eb4c-4bec-af80-ca0ebcdc6f7c",
   "metadata": {},
   "outputs": [],
   "source": [
    "id2 = test_white['id']\n",
    "test_white_qualified = test_white.drop(columns = ['id','type'])\n"
   ]
  },
  {
   "cell_type": "code",
   "execution_count": null,
   "id": "43668209-c744-415d-a399-682c1a22abe0",
   "metadata": {},
   "outputs": [],
   "source": [
    "predicted2 = pipeline_white.predict(test_white_qualified)"
   ]
  },
  {
   "cell_type": "code",
   "execution_count": null,
   "id": "4ee23ff8-31b8-43c8-8843-2ee6dc5e680f",
   "metadata": {},
   "outputs": [],
   "source": [
    "data2 = {'id': id2, 'quality': predicted2}\n",
    "white_table = pd.DataFrame(data2)\n",
    "white_table.head(5)"
   ]
  },
  {
   "cell_type": "code",
   "execution_count": null,
   "id": "6394edae-6b8a-4488-a62c-b92af629a574",
   "metadata": {},
   "outputs": [],
   "source": [
    "table = pd.concat([red_table, white_table])\n",
    "table"
   ]
  },
  {
   "cell_type": "code",
   "execution_count": null,
   "id": "908ce6b0-941c-438d-ae3f-e41b4b8e2c75",
   "metadata": {},
   "outputs": [],
   "source": [
    "csv_filename = 'results2.csv'\n",
    "table.to_csv(csv_filename, index = False)\n",
    "print(f'DataFrame saved to {csv_filename}')"
   ]
  }
 ],
 "metadata": {
  "kernelspec": {
   "display_name": "Python 3 (ipykernel)",
   "language": "python",
   "name": "python3"
  },
  "language_info": {
   "codemirror_mode": {
    "name": "ipython",
    "version": 3
   },
   "file_extension": ".py",
   "mimetype": "text/x-python",
   "name": "python",
   "nbconvert_exporter": "python",
   "pygments_lexer": "ipython3",
   "version": "3.10.9"
  }
 },
 "nbformat": 4,
 "nbformat_minor": 5
}
